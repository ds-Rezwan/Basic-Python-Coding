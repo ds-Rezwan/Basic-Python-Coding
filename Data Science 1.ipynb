{
 "cells": [
  {
   "cell_type": "code",
   "execution_count": 1,
   "id": "53f0b69d",
   "metadata": {},
   "outputs": [
    {
     "data": {
      "text/plain": [
       "'Hellow world'"
      ]
     },
     "execution_count": 1,
     "metadata": {},
     "output_type": "execute_result"
    }
   ],
   "source": [
    "('Hellow world')"
   ]
  },
  {
   "cell_type": "code",
   "execution_count": 2,
   "id": "734c6c90",
   "metadata": {},
   "outputs": [],
   "source": [
    "name= \"Rana\"\n",
    "age=25"
   ]
  },
  {
   "cell_type": "code",
   "execution_count": 28,
   "id": "f14d9e7a",
   "metadata": {},
   "outputs": [
    {
     "data": {
      "text/plain": [
       "int"
      ]
     },
     "execution_count": 28,
     "metadata": {},
     "output_type": "execute_result"
    }
   ],
   "source": [
    "type(age)"
   ]
  },
  {
   "cell_type": "markdown",
   "id": "7aaad2a2",
   "metadata": {},
   "source": [
    "## Data type conversation"
   ]
  },
  {
   "cell_type": "code",
   "execution_count": 3,
   "id": "bb6de1c2",
   "metadata": {},
   "outputs": [
    {
     "data": {
      "text/plain": [
       "'He is Rana. He is 25 years old'"
      ]
     },
     "execution_count": 3,
     "metadata": {},
     "output_type": "execute_result"
    }
   ],
   "source": [
    "'He is ' + name +'. He is ' + str(25) + ' years old'"
   ]
  },
  {
   "cell_type": "markdown",
   "id": "336c2b52",
   "metadata": {},
   "source": [
    "## variable formating"
   ]
  },
  {
   "cell_type": "code",
   "execution_count": 4,
   "id": "4c9a4293",
   "metadata": {},
   "outputs": [
    {
     "name": "stdout",
     "output_type": "stream",
     "text": [
      "Rana is a good boy and he is 25 years old\n"
     ]
    }
   ],
   "source": [
    "print('{} is a good boy and he is {} years old'.format (name, age))\n"
   ]
  },
  {
   "cell_type": "code",
   "execution_count": 5,
   "id": "db27d9b8",
   "metadata": {},
   "outputs": [
    {
     "name": "stdout",
     "output_type": "stream",
     "text": [
      "Rana is a good boy and he is 25 years old\n"
     ]
    }
   ],
   "source": [
    "print(f'{name} is a good boy and he is {age} years old'.format (name, age))"
   ]
  },
  {
   "cell_type": "code",
   "execution_count": 6,
   "id": "2e7c8c96",
   "metadata": {},
   "outputs": [
    {
     "data": {
      "text/plain": [
       "'Rana is 56.5 kg'"
      ]
     },
     "execution_count": 6,
     "metadata": {},
     "output_type": "execute_result"
    }
   ],
   "source": [
    "name + ' is ' + str(56.5) +' kg' "
   ]
  },
  {
   "cell_type": "markdown",
   "id": "986466ce",
   "metadata": {},
   "source": [
    "## Indexing always in third bracket"
   ]
  },
  {
   "cell_type": "code",
   "execution_count": 7,
   "id": "8f381df3",
   "metadata": {},
   "outputs": [],
   "source": [
    "msg= 'Hellow'"
   ]
  },
  {
   "cell_type": "code",
   "execution_count": 8,
   "id": "270fee98",
   "metadata": {},
   "outputs": [
    {
     "data": {
      "text/plain": [
       "'e'"
      ]
     },
     "execution_count": 8,
     "metadata": {},
     "output_type": "execute_result"
    }
   ],
   "source": [
    "msg[1]"
   ]
  },
  {
   "cell_type": "code",
   "execution_count": 9,
   "id": "a6bfa218",
   "metadata": {},
   "outputs": [
    {
     "data": {
      "text/plain": [
       "'w'"
      ]
     },
     "execution_count": 9,
     "metadata": {},
     "output_type": "execute_result"
    }
   ],
   "source": [
    "msg[5]"
   ]
  },
  {
   "cell_type": "code",
   "execution_count": 10,
   "id": "b5cd5274",
   "metadata": {},
   "outputs": [
    {
     "data": {
      "text/plain": [
       "'o'"
      ]
     },
     "execution_count": 10,
     "metadata": {},
     "output_type": "execute_result"
    }
   ],
   "source": [
    "msg[-2]"
   ]
  },
  {
   "cell_type": "markdown",
   "id": "4a51787d",
   "metadata": {},
   "source": [
    "## Slicing (Exclusive)"
   ]
  },
  {
   "cell_type": "code",
   "execution_count": 11,
   "id": "d0363a58",
   "metadata": {},
   "outputs": [
    {
     "data": {
      "text/plain": [
       "'Hello'"
      ]
     },
     "execution_count": 11,
     "metadata": {},
     "output_type": "execute_result"
    }
   ],
   "source": [
    " msg[0:5]"
   ]
  },
  {
   "cell_type": "code",
   "execution_count": 12,
   "id": "2c526439",
   "metadata": {},
   "outputs": [
    {
     "data": {
      "text/plain": [
       "'ell'"
      ]
     },
     "execution_count": 12,
     "metadata": {},
     "output_type": "execute_result"
    }
   ],
   "source": [
    "msg[1:4]"
   ]
  },
  {
   "cell_type": "markdown",
   "id": "a44b541c",
   "metadata": {},
   "source": [
    "## Input ()"
   ]
  },
  {
   "cell_type": "code",
   "execution_count": 13,
   "id": "8f476519",
   "metadata": {},
   "outputs": [],
   "source": [
    "#name=input('what is your name?')\n",
    "#Id= input ('what is your id?')\n",
    "#address=input('what is your address?')\n",
    "#print('He is '+name + ' and his id number is ' + Id + '. He lives in ' +address)"
   ]
  },
  {
   "cell_type": "code",
   "execution_count": 14,
   "id": "d9ae6801",
   "metadata": {},
   "outputs": [],
   "source": [
    "#name= input ('what is your name')\n",
    "#Id = input('Enter your id')\n",
    "#print('Welcome ' + name + '! Your id is '+ Id + '. You have been selected.'  )\n"
   ]
  },
  {
   "cell_type": "code",
   "execution_count": 1,
   "id": "20b0e509",
   "metadata": {},
   "outputs": [
    {
     "name": "stdout",
     "output_type": "stream",
     "text": [
      " Enter your title: Mr.\n",
      " What is your first name: Md Abu\n",
      " What is your last name: Rezwan\n",
      " Enter your phone number: +4915737624503\n",
      " Enter your Date of birth: 10.12.1990\n",
      " From when are you available: 05.05.2024\n",
      " what is you annual expected salary: 50,000\n",
      "Mr.Rezwan. Thanks for your application.  Your application has been successfully submitted.\n"
     ]
    }
   ],
   "source": [
    "title= input(' Enter your title: ')\n",
    "first_name= input(' What is your first name: ')\n",
    "last_name= input (' What is your last name: ')\n",
    "phone_number= input (' Enter your phone number: ')\n",
    "date_of_birth=input (' Enter your Date of birth: ')\n",
    "availability= input(' From when are you available: ')\n",
    "salary= input (' what is you annual expected salary: ')\n",
    "print(title + last_name + '. Thanks for your application.', ' Your application has been successfully submitted.')"
   ]
  },
  {
   "cell_type": "markdown",
   "id": "c8162640",
   "metadata": {},
   "source": [
    "## List"
   ]
  },
  {
   "cell_type": "code",
   "execution_count": 1,
   "id": "85c3e0ee",
   "metadata": {},
   "outputs": [],
   "source": [
    "My_list= ['Rezwan', 'Sociology', True, 1]"
   ]
  },
  {
   "cell_type": "code",
   "execution_count": 2,
   "id": "a7ccf31d",
   "metadata": {},
   "outputs": [
    {
     "data": {
      "text/plain": [
       "['Rezwan', 'Sociology', True, 1]"
      ]
     },
     "execution_count": 2,
     "metadata": {},
     "output_type": "execute_result"
    }
   ],
   "source": [
    "My_list"
   ]
  },
  {
   "cell_type": "code",
   "execution_count": 3,
   "id": "a45a949e",
   "metadata": {},
   "outputs": [
    {
     "data": {
      "text/plain": [
       "list"
      ]
     },
     "execution_count": 3,
     "metadata": {},
     "output_type": "execute_result"
    }
   ],
   "source": [
    "type(My_list)"
   ]
  },
  {
   "cell_type": "code",
   "execution_count": 69,
   "id": "1b35a5bc",
   "metadata": {},
   "outputs": [],
   "source": [
    "subjects=[]"
   ]
  },
  {
   "cell_type": "code",
   "execution_count": 108,
   "id": "037ca8ee",
   "metadata": {},
   "outputs": [],
   "source": [
    "subject.append('Anthropology' )"
   ]
  },
  {
   "cell_type": "code",
   "execution_count": 106,
   "id": "658b9859",
   "metadata": {},
   "outputs": [
    {
     "data": {
      "text/plain": [
       "['statistics', 'polital science', 'Data Science', 'Drama']"
      ]
     },
     "execution_count": 106,
     "metadata": {},
     "output_type": "execute_result"
    }
   ],
   "source": [
    "subject"
   ]
  },
  {
   "cell_type": "code",
   "execution_count": 67,
   "id": "aa79419c",
   "metadata": {},
   "outputs": [],
   "source": [
    "subject.append('polital science')"
   ]
  },
  {
   "cell_type": "code",
   "execution_count": 11,
   "id": "8afe1239",
   "metadata": {},
   "outputs": [
    {
     "data": {
      "text/plain": [
       "['Sociology', 'polital science']"
      ]
     },
     "execution_count": 11,
     "metadata": {},
     "output_type": "execute_result"
    }
   ],
   "source": [
    "subject"
   ]
  },
  {
   "cell_type": "code",
   "execution_count": 12,
   "id": "05d2c36f",
   "metadata": {},
   "outputs": [],
   "source": [
    "subject.insert(0, 'statistics')"
   ]
  },
  {
   "cell_type": "code",
   "execution_count": 13,
   "id": "1d5542bd",
   "metadata": {},
   "outputs": [
    {
     "data": {
      "text/plain": [
       "['statistics', 'Sociology', 'polital science']"
      ]
     },
     "execution_count": 13,
     "metadata": {},
     "output_type": "execute_result"
    }
   ],
   "source": [
    "subject"
   ]
  },
  {
   "cell_type": "code",
   "execution_count": 16,
   "id": "cbeddd05",
   "metadata": {},
   "outputs": [],
   "source": [
    "subject.append(My_list)"
   ]
  },
  {
   "cell_type": "code",
   "execution_count": 17,
   "id": "692663c0",
   "metadata": {},
   "outputs": [
    {
     "data": {
      "text/plain": [
       "['statistics',\n",
       " 'Sociology',\n",
       " 'polital science',\n",
       " 'Rezwan',\n",
       " 'Sociology',\n",
       " True,\n",
       " 1,\n",
       " ['Rezwan', 'Sociology', True, 1]]"
      ]
     },
     "execution_count": 17,
     "metadata": {},
     "output_type": "execute_result"
    }
   ],
   "source": [
    "subject"
   ]
  },
  {
   "cell_type": "code",
   "execution_count": 21,
   "id": "f116f66d",
   "metadata": {},
   "outputs": [],
   "source": [
    "subject.extend(My_list)"
   ]
  },
  {
   "cell_type": "code",
   "execution_count": 19,
   "id": "cb047883",
   "metadata": {},
   "outputs": [
    {
     "data": {
      "text/plain": [
       "[['Rezwan', 'Sociology', True, 1],\n",
       " 'statistics',\n",
       " 'Sociology',\n",
       " 'polital science',\n",
       " 'Rezwan',\n",
       " 'Sociology',\n",
       " True,\n",
       " 1,\n",
       " ['Rezwan', 'Sociology', True, 1]]"
      ]
     },
     "execution_count": 19,
     "metadata": {},
     "output_type": "execute_result"
    }
   ],
   "source": [
    "subject"
   ]
  },
  {
   "cell_type": "markdown",
   "id": "da60ee42",
   "metadata": {},
   "source": [
    "## Removing element from list"
   ]
  },
  {
   "cell_type": "code",
   "execution_count": 29,
   "id": "10a4dc24",
   "metadata": {},
   "outputs": [
    {
     "name": "stdout",
     "output_type": "stream",
     "text": [
      "None\n"
     ]
    }
   ],
   "source": [
    "print(subject.remove('Sociology'))"
   ]
  },
  {
   "cell_type": "code",
   "execution_count": 30,
   "id": "e0b93727",
   "metadata": {},
   "outputs": [
    {
     "data": {
      "text/plain": [
       "['statistics',\n",
       " 'polital science',\n",
       " 'Rezwan',\n",
       " True,\n",
       " 1,\n",
       " ['Rezwan', 'Sociology', True, 1],\n",
       " 'Rezwan',\n",
       " 'Sociology',\n",
       " True,\n",
       " 1]"
      ]
     },
     "execution_count": 30,
     "metadata": {},
     "output_type": "execute_result"
    }
   ],
   "source": [
    "subject"
   ]
  },
  {
   "cell_type": "code",
   "execution_count": 33,
   "id": "ee0d311e",
   "metadata": {},
   "outputs": [
    {
     "name": "stdout",
     "output_type": "stream",
     "text": [
      "None\n"
     ]
    }
   ],
   "source": [
    "print(subject.remove(\"Rezwan\"))"
   ]
  },
  {
   "cell_type": "code",
   "execution_count": 34,
   "id": "d1a5ce21",
   "metadata": {},
   "outputs": [
    {
     "data": {
      "text/plain": [
       "['statistics',\n",
       " 'polital science',\n",
       " True,\n",
       " 1,\n",
       " ['Rezwan', 'Sociology', True, 1],\n",
       " 'Rezwan',\n",
       " 'Sociology',\n",
       " True,\n",
       " 1,\n",
       " 'Biology']"
      ]
     },
     "execution_count": 34,
     "metadata": {},
     "output_type": "execute_result"
    }
   ],
   "source": [
    "subject"
   ]
  },
  {
   "cell_type": "code",
   "execution_count": 36,
   "id": "2f60c3f5",
   "metadata": {},
   "outputs": [
    {
     "name": "stdout",
     "output_type": "stream",
     "text": [
      "None\n"
     ]
    }
   ],
   "source": [
    "print(subject.remove(My_list))"
   ]
  },
  {
   "cell_type": "code",
   "execution_count": 37,
   "id": "4f3edea6",
   "metadata": {},
   "outputs": [
    {
     "data": {
      "text/plain": [
       "['statistics',\n",
       " 'polital science',\n",
       " True,\n",
       " 1,\n",
       " 'Rezwan',\n",
       " 'Sociology',\n",
       " True,\n",
       " 1,\n",
       " 'Biology']"
      ]
     },
     "execution_count": 37,
     "metadata": {},
     "output_type": "execute_result"
    }
   ],
   "source": [
    "subject"
   ]
  },
  {
   "cell_type": "code",
   "execution_count": 43,
   "id": "1fdb4799",
   "metadata": {},
   "outputs": [],
   "source": [
    "subject.remove(1)"
   ]
  },
  {
   "cell_type": "code",
   "execution_count": 44,
   "id": "0b5e5880",
   "metadata": {},
   "outputs": [
    {
     "data": {
      "text/plain": [
       "['statistics', 'polital science', 'Rezwan', 'Sociology', True, 1, 'Biology']"
      ]
     },
     "execution_count": 44,
     "metadata": {},
     "output_type": "execute_result"
    }
   ],
   "source": [
    "subject"
   ]
  },
  {
   "cell_type": "code",
   "execution_count": 45,
   "id": "a06d71da",
   "metadata": {},
   "outputs": [
    {
     "name": "stdout",
     "output_type": "stream",
     "text": [
      "None\n"
     ]
    }
   ],
   "source": [
    "print(subject.remove(1))"
   ]
  },
  {
   "cell_type": "code",
   "execution_count": 46,
   "id": "d0539c85",
   "metadata": {},
   "outputs": [
    {
     "data": {
      "text/plain": [
       "['statistics', 'polital science', 'Rezwan', 'Sociology', 1, 'Biology']"
      ]
     },
     "execution_count": 46,
     "metadata": {},
     "output_type": "execute_result"
    }
   ],
   "source": [
    "subject"
   ]
  },
  {
   "cell_type": "code",
   "execution_count": 47,
   "id": "3edcaa0d",
   "metadata": {},
   "outputs": [],
   "source": [
    "# list.pop(position)"
   ]
  },
  {
   "cell_type": "code",
   "execution_count": 56,
   "id": "a1e02ce5",
   "metadata": {},
   "outputs": [
    {
     "data": {
      "text/plain": [
       "'Rezwan'"
      ]
     },
     "execution_count": 56,
     "metadata": {},
     "output_type": "execute_result"
    }
   ],
   "source": [
    "subject.pop(1)"
   ]
  },
  {
   "cell_type": "code",
   "execution_count": 57,
   "id": "f74be3ca",
   "metadata": {},
   "outputs": [
    {
     "data": {
      "text/plain": [
       "['statistics', 'Biology']"
      ]
     },
     "execution_count": 57,
     "metadata": {},
     "output_type": "execute_result"
    }
   ],
   "source": [
    "subject"
   ]
  },
  {
   "cell_type": "code",
   "execution_count": 61,
   "id": "7e7e3041",
   "metadata": {},
   "outputs": [],
   "source": [
    "popped_item= subject.pop(1)"
   ]
  },
  {
   "cell_type": "code",
   "execution_count": 62,
   "id": "2c89eda7",
   "metadata": {},
   "outputs": [
    {
     "data": {
      "text/plain": [
       "['statistics']"
      ]
     },
     "execution_count": 62,
     "metadata": {},
     "output_type": "execute_result"
    }
   ],
   "source": [
    "subject"
   ]
  },
  {
   "cell_type": "code",
   "execution_count": 64,
   "id": "c75f3d20",
   "metadata": {},
   "outputs": [
    {
     "data": {
      "text/plain": [
       "'Biology'"
      ]
     },
     "execution_count": 64,
     "metadata": {},
     "output_type": "execute_result"
    }
   ],
   "source": [
    "popped_item"
   ]
  },
  {
   "cell_type": "code",
   "execution_count": 82,
   "id": "ef16f2a1",
   "metadata": {},
   "outputs": [
    {
     "data": {
      "text/plain": [
       "['statistics', 'polital science', 'english']"
      ]
     },
     "execution_count": 82,
     "metadata": {},
     "output_type": "execute_result"
    }
   ],
   "source": [
    "subject"
   ]
  },
  {
   "cell_type": "code",
   "execution_count": 74,
   "id": "2aa5b662",
   "metadata": {},
   "outputs": [],
   "source": [
    "num_sub= len(subject)"
   ]
  },
  {
   "cell_type": "code",
   "execution_count": 75,
   "id": "bbb1e0d8",
   "metadata": {},
   "outputs": [
    {
     "data": {
      "text/plain": [
       "3"
      ]
     },
     "execution_count": 75,
     "metadata": {},
     "output_type": "execute_result"
    }
   ],
   "source": [
    "num_sub"
   ]
  },
  {
   "cell_type": "code",
   "execution_count": 88,
   "id": "017a3077",
   "metadata": {},
   "outputs": [
    {
     "name": "stdout",
     "output_type": "stream",
     "text": [
      "There are 3 subjects in the list.\n"
     ]
    }
   ],
   "source": [
    "print('There are ' + str(num_sub) + ' subjects in the list.')"
   ]
  },
  {
   "cell_type": "code",
   "execution_count": 89,
   "id": "40643214",
   "metadata": {},
   "outputs": [],
   "source": [
    "subject.sort()"
   ]
  },
  {
   "cell_type": "code",
   "execution_count": 90,
   "id": "1ee4e36b",
   "metadata": {},
   "outputs": [
    {
     "data": {
      "text/plain": [
       "['english', 'polital science', 'statistics']"
      ]
     },
     "execution_count": 90,
     "metadata": {},
     "output_type": "execute_result"
    }
   ],
   "source": [
    "subject"
   ]
  },
  {
   "cell_type": "code",
   "execution_count": 91,
   "id": "9ce87424",
   "metadata": {},
   "outputs": [],
   "source": [
    "subject.reverse()"
   ]
  },
  {
   "cell_type": "code",
   "execution_count": 92,
   "id": "ea66a159",
   "metadata": {},
   "outputs": [
    {
     "data": {
      "text/plain": [
       "['statistics', 'polital science', 'english']"
      ]
     },
     "execution_count": 92,
     "metadata": {},
     "output_type": "execute_result"
    }
   ],
   "source": [
    "subject"
   ]
  },
  {
   "cell_type": "code",
   "execution_count": 93,
   "id": "998a84f3",
   "metadata": {},
   "outputs": [],
   "source": [
    "subject.sort(reverse = True)"
   ]
  },
  {
   "cell_type": "code",
   "execution_count": 94,
   "id": "57e8f15e",
   "metadata": {},
   "outputs": [
    {
     "data": {
      "text/plain": [
       "['statistics', 'polital science', 'english']"
      ]
     },
     "execution_count": 94,
     "metadata": {},
     "output_type": "execute_result"
    }
   ],
   "source": [
    "subject"
   ]
  },
  {
   "cell_type": "code",
   "execution_count": 96,
   "id": "3221a5af",
   "metadata": {},
   "outputs": [],
   "source": [
    "a= sorted(subject) #Temporary sorting"
   ]
  },
  {
   "cell_type": "code",
   "execution_count": 97,
   "id": "efbaf906",
   "metadata": {},
   "outputs": [
    {
     "data": {
      "text/plain": [
       "['english', 'polital science', 'statistics']"
      ]
     },
     "execution_count": 97,
     "metadata": {},
     "output_type": "execute_result"
    }
   ],
   "source": [
    "a"
   ]
  },
  {
   "cell_type": "code",
   "execution_count": 98,
   "id": "f7b50649",
   "metadata": {},
   "outputs": [],
   "source": [
    "subject[2] = 'Data Science' #Replace"
   ]
  },
  {
   "cell_type": "code",
   "execution_count": 109,
   "id": "b3b8bfb4",
   "metadata": {},
   "outputs": [
    {
     "data": {
      "text/plain": [
       "['statistics', 'polital science', 'Data Science', 'Drama', 'Anthropology']"
      ]
     },
     "execution_count": 109,
     "metadata": {},
     "output_type": "execute_result"
    }
   ],
   "source": [
    "subject"
   ]
  },
  {
   "cell_type": "code",
   "execution_count": 100,
   "id": "931fa31e",
   "metadata": {},
   "outputs": [
    {
     "name": "stdout",
     "output_type": "stream",
     "text": [
      "2\n"
     ]
    }
   ],
   "source": [
    "print(subject.index('Data Science')) #Indexing"
   ]
  },
  {
   "cell_type": "code",
   "execution_count": 101,
   "id": "9c01c795",
   "metadata": {},
   "outputs": [
    {
     "name": "stdout",
     "output_type": "stream",
     "text": [
      "False\n"
     ]
    }
   ],
   "source": [
    "print('Math' in subject)"
   ]
  },
  {
   "cell_type": "code",
   "execution_count": 104,
   "id": "ff48a311",
   "metadata": {},
   "outputs": [
    {
     "name": "stdout",
     "output_type": "stream",
     "text": [
      "True\n"
     ]
    }
   ],
   "source": [
    "print('Data Science' in subject)"
   ]
  },
  {
   "cell_type": "markdown",
   "id": "fc397273",
   "metadata": {},
   "source": [
    "## For loop"
   ]
  },
  {
   "cell_type": "code",
   "execution_count": 110,
   "id": "28070b2b",
   "metadata": {},
   "outputs": [
    {
     "name": "stdout",
     "output_type": "stream",
     "text": [
      "statistics\n",
      "polital science\n",
      "Data Science\n",
      "Drama\n",
      "Anthropology\n"
     ]
    }
   ],
   "source": [
    "for items in subject:\n",
    "    print(items)"
   ]
  },
  {
   "cell_type": "code",
   "execution_count": 116,
   "id": "94eeedb1",
   "metadata": {},
   "outputs": [
    {
     "name": "stdout",
     "output_type": "stream",
     "text": [
      "0 statistics\n",
      "1 polital science\n",
      "2 Data Science\n",
      "3 Drama\n",
      "4 Anthropology\n"
     ]
    }
   ],
   "source": [
    "for index, iteams in enumerate(subject):\n",
    "    print(index,iteams)"
   ]
  },
  {
   "cell_type": "code",
   "execution_count": 117,
   "id": "d27a551d",
   "metadata": {},
   "outputs": [
    {
     "name": "stdout",
     "output_type": "stream",
     "text": [
      "1 statistics\n",
      "2 polital science\n",
      "3 Data Science\n",
      "4 Drama\n",
      "5 Anthropology\n"
     ]
    }
   ],
   "source": [
    "for index, iteams in enumerate (subject, start = 1):\n",
    "    print(index,iteams)"
   ]
  },
  {
   "cell_type": "markdown",
   "id": "453135cc",
   "metadata": {},
   "source": [
    "## Touple"
   ]
  },
  {
   "cell_type": "code",
   "execution_count": 118,
   "id": "45443190",
   "metadata": {},
   "outputs": [],
   "source": [
    "tup= ('name', 'value', 'age', 'subject')"
   ]
  },
  {
   "cell_type": "code",
   "execution_count": 119,
   "id": "91b325e9",
   "metadata": {},
   "outputs": [
    {
     "data": {
      "text/plain": [
       "('name', 'value', 'age', 'subject')"
      ]
     },
     "execution_count": 119,
     "metadata": {},
     "output_type": "execute_result"
    }
   ],
   "source": [
    "tup"
   ]
  },
  {
   "cell_type": "code",
   "execution_count": 120,
   "id": "00f01a5e",
   "metadata": {},
   "outputs": [
    {
     "data": {
      "text/plain": [
       "tuple"
      ]
     },
     "execution_count": 120,
     "metadata": {},
     "output_type": "execute_result"
    }
   ],
   "source": [
    "type(tup)"
   ]
  },
  {
   "cell_type": "code",
   "execution_count": 125,
   "id": "b6556c52",
   "metadata": {},
   "outputs": [
    {
     "data": {
      "text/plain": [
       "('age', 'subject')"
      ]
     },
     "execution_count": 125,
     "metadata": {},
     "output_type": "execute_result"
    }
   ],
   "source": [
    "tup[2:4]"
   ]
  },
  {
   "cell_type": "code",
   "execution_count": 126,
   "id": "ea69c9e0",
   "metadata": {},
   "outputs": [],
   "source": [
    "tup_list = list(tup) # tuple change to list then we can use it as a list"
   ]
  },
  {
   "cell_type": "code",
   "execution_count": 127,
   "id": "9d40741b",
   "metadata": {},
   "outputs": [
    {
     "data": {
      "text/plain": [
       "['name', 'value', 'age', 'subject']"
      ]
     },
     "execution_count": 127,
     "metadata": {},
     "output_type": "execute_result"
    }
   ],
   "source": [
    "tup_list"
   ]
  },
  {
   "cell_type": "code",
   "execution_count": 128,
   "id": "4c4be2eb",
   "metadata": {},
   "outputs": [],
   "source": [
    "tup_list.append('weight')"
   ]
  },
  {
   "cell_type": "code",
   "execution_count": 129,
   "id": "1390a159",
   "metadata": {},
   "outputs": [
    {
     "data": {
      "text/plain": [
       "['name', 'value', 'age', 'subject', 'weight']"
      ]
     },
     "execution_count": 129,
     "metadata": {},
     "output_type": "execute_result"
    }
   ],
   "source": [
    "tup_list"
   ]
  },
  {
   "cell_type": "code",
   "execution_count": 133,
   "id": "79a00fbb",
   "metadata": {},
   "outputs": [],
   "source": [
    "list_tup = tuple(tup_list)"
   ]
  },
  {
   "cell_type": "code",
   "execution_count": 135,
   "id": "dba66ac3",
   "metadata": {},
   "outputs": [
    {
     "data": {
      "text/plain": [
       "('name', 'value', 'age', 'subject', 'weight')"
      ]
     },
     "execution_count": 135,
     "metadata": {},
     "output_type": "execute_result"
    }
   ],
   "source": [
    "list_tup"
   ]
  },
  {
   "cell_type": "code",
   "execution_count": 136,
   "id": "9a79904d",
   "metadata": {},
   "outputs": [
    {
     "data": {
      "text/plain": [
       "tuple"
      ]
     },
     "execution_count": 136,
     "metadata": {},
     "output_type": "execute_result"
    }
   ],
   "source": [
    "type(list_tup)"
   ]
  },
  {
   "cell_type": "markdown",
   "id": "5f6e880f",
   "metadata": {},
   "source": [
    "## Set"
   ]
  },
  {
   "cell_type": "code",
   "execution_count": 137,
   "id": "c296cdee",
   "metadata": {},
   "outputs": [],
   "source": [
    "my_set = {'Rezwan', 'Rafe', 'Alamin', 'Nayem'} #Set does't care about order. It comes alphabitically"
   ]
  },
  {
   "cell_type": "code",
   "execution_count": 138,
   "id": "a2c0d851",
   "metadata": {},
   "outputs": [
    {
     "data": {
      "text/plain": [
       "{'Alamin', 'Nayem', 'Rafe', 'Rezwan'}"
      ]
     },
     "execution_count": 138,
     "metadata": {},
     "output_type": "execute_result"
    }
   ],
   "source": [
    "my_set"
   ]
  },
  {
   "cell_type": "code",
   "execution_count": 139,
   "id": "429dad52",
   "metadata": {},
   "outputs": [],
   "source": [
    "my_list = ['Rezwan', 'Rafe', 'Alamin', 'Nayem']"
   ]
  },
  {
   "cell_type": "code",
   "execution_count": 140,
   "id": "75dde118",
   "metadata": {},
   "outputs": [
    {
     "data": {
      "text/plain": [
       "['Rezwan', 'Rafe', 'Alamin', 'Nayem']"
      ]
     },
     "execution_count": 140,
     "metadata": {},
     "output_type": "execute_result"
    }
   ],
   "source": [
    "my_list"
   ]
  },
  {
   "cell_type": "code",
   "execution_count": null,
   "id": "7be56ec7",
   "metadata": {},
   "outputs": [],
   "source": [
    "#Intersection()\n",
    "#difference()\n",
    "#Union()"
   ]
  },
  {
   "cell_type": "code",
   "execution_count": 141,
   "id": "97e8ce92",
   "metadata": {},
   "outputs": [],
   "source": [
    "A= {'Math', 'Statistics', 'Physics', 'ict', 'bangla'}\n",
    "B= {'History', 'English', 'Sociology', 'ict', 'Bangla'}"
   ]
  },
  {
   "cell_type": "code",
   "execution_count": 142,
   "id": "a6d1e234",
   "metadata": {},
   "outputs": [
    {
     "name": "stdout",
     "output_type": "stream",
     "text": [
      "{'ict'}\n"
     ]
    }
   ],
   "source": [
    "print(A.intersection(B))"
   ]
  },
  {
   "cell_type": "code",
   "execution_count": 145,
   "id": "0235ff1a",
   "metadata": {},
   "outputs": [
    {
     "name": "stdout",
     "output_type": "stream",
     "text": [
      "{'ict', 'Bangla'}\n"
     ]
    }
   ],
   "source": [
    "print(B.intersection(A))"
   ]
  },
  {
   "cell_type": "code",
   "execution_count": 143,
   "id": "aaf023fa",
   "metadata": {},
   "outputs": [],
   "source": [
    "A= {'Math', 'Statistics', 'Physics', 'ict', 'Bangla'}\n",
    "B= {'History', 'English', 'Sociology', 'ict', 'Bangla'}"
   ]
  },
  {
   "cell_type": "code",
   "execution_count": 144,
   "id": "6acfe2ed",
   "metadata": {},
   "outputs": [
    {
     "name": "stdout",
     "output_type": "stream",
     "text": [
      "{'ict', 'Bangla'}\n"
     ]
    }
   ],
   "source": [
    "print(A.intersection(B))"
   ]
  },
  {
   "cell_type": "code",
   "execution_count": 146,
   "id": "f8ae703d",
   "metadata": {},
   "outputs": [
    {
     "name": "stdout",
     "output_type": "stream",
     "text": [
      "{'Math', 'Physics', 'Statistics'}\n"
     ]
    }
   ],
   "source": [
    "print(A.difference(B))"
   ]
  },
  {
   "cell_type": "code",
   "execution_count": 147,
   "id": "8302059c",
   "metadata": {},
   "outputs": [
    {
     "name": "stdout",
     "output_type": "stream",
     "text": [
      "{'Sociology', 'English', 'History'}\n"
     ]
    }
   ],
   "source": [
    "print(B.difference(A))"
   ]
  },
  {
   "cell_type": "code",
   "execution_count": 148,
   "id": "8bac4f5d",
   "metadata": {},
   "outputs": [
    {
     "name": "stdout",
     "output_type": "stream",
     "text": [
      "{'ict', 'History', 'Sociology', 'Bangla', 'Physics', 'English', 'Math', 'Statistics'}\n"
     ]
    }
   ],
   "source": [
    "print(A.union(B))"
   ]
  },
  {
   "cell_type": "markdown",
   "id": "71f7461d",
   "metadata": {},
   "source": [
    "## Dictionary"
   ]
  },
  {
   "cell_type": "code",
   "execution_count": 1,
   "id": "00424417",
   "metadata": {},
   "outputs": [],
   "source": [
    "## Dictionarry is a pair of key and value"
   ]
  },
  {
   "cell_type": "code",
   "execution_count": 17,
   "id": "a307132a",
   "metadata": {},
   "outputs": [],
   "source": [
    "my_dict ={'name':'Rezwan', \n",
    "          'age': 27, \n",
    "          'sub': 'Data and Discourse Studies'\n",
    "         }"
   ]
  },
  {
   "cell_type": "code",
   "execution_count": 16,
   "id": "eebf0e98",
   "metadata": {},
   "outputs": [
    {
     "data": {
      "text/plain": [
       "{'name': 'Abu',\n",
       " 'age': 27,\n",
       " 'sub': 'Data and Discourse Studies',\n",
       " 'phone': 1234555}"
      ]
     },
     "execution_count": 16,
     "metadata": {},
     "output_type": "execute_result"
    }
   ],
   "source": [
    "my_dict"
   ]
  },
  {
   "cell_type": "code",
   "execution_count": 7,
   "id": "6b532972",
   "metadata": {},
   "outputs": [],
   "source": [
    "my_dict['phone']=1234555"
   ]
  },
  {
   "cell_type": "code",
   "execution_count": 15,
   "id": "190d246e",
   "metadata": {},
   "outputs": [
    {
     "data": {
      "text/plain": [
       "{'name': 'Abu',\n",
       " 'age': 27,\n",
       " 'sub': 'Data and Discourse Studies',\n",
       " 'phone': 1234555}"
      ]
     },
     "execution_count": 15,
     "metadata": {},
     "output_type": "execute_result"
    }
   ],
   "source": [
    "my_dict"
   ]
  },
  {
   "cell_type": "code",
   "execution_count": 9,
   "id": "b5b6a990",
   "metadata": {},
   "outputs": [],
   "source": [
    "my_dict['name']= 'Abu'"
   ]
  },
  {
   "cell_type": "code",
   "execution_count": 10,
   "id": "fa43e63b",
   "metadata": {
    "scrolled": true
   },
   "outputs": [
    {
     "data": {
      "text/plain": [
       "{'name': 'Abu',\n",
       " 'age': 27,\n",
       " 'sub': 'Data and Discourse Studies',\n",
       " 'phone': 1234555}"
      ]
     },
     "execution_count": 10,
     "metadata": {},
     "output_type": "execute_result"
    }
   ],
   "source": [
    "my_dict"
   ]
  },
  {
   "cell_type": "markdown",
   "id": "6144bd19",
   "metadata": {},
   "source": [
    "## For loop"
   ]
  },
  {
   "cell_type": "code",
   "execution_count": 20,
   "id": "8d4f252f",
   "metadata": {},
   "outputs": [
    {
     "name": "stdout",
     "output_type": "stream",
     "text": [
      "0\n",
      "1\n",
      "2\n",
      "3\n",
      "4\n",
      "5\n",
      "6\n",
      "7\n",
      "8\n",
      "9\n"
     ]
    }
   ],
   "source": [
    "# To print something for ten times\n",
    "for i in range (10):\n",
    "    print(i)"
   ]
  },
  {
   "cell_type": "code",
   "execution_count": 23,
   "id": "cddedafc",
   "metadata": {},
   "outputs": [
    {
     "name": "stdout",
     "output_type": "stream",
     "text": [
      "1\n",
      "4\n",
      "7\n",
      "10\n",
      "13\n",
      "16\n",
      "19\n"
     ]
    }
   ],
   "source": [
    "# Using start, stop and step\n",
    "for i in range (1, 20, 3):\n",
    "    print(i)"
   ]
  },
  {
   "cell_type": "code",
   "execution_count": 27,
   "id": "1423bc3b",
   "metadata": {},
   "outputs": [],
   "source": [
    "#Creating a simple num list an looping through it\n",
    "nums = [1,2,3,4,5,6]"
   ]
  },
  {
   "cell_type": "code",
   "execution_count": 30,
   "id": "e320f591",
   "metadata": {},
   "outputs": [
    {
     "name": "stdout",
     "output_type": "stream",
     "text": [
      "1\n",
      "2\n",
      "3\n",
      "4\n",
      "5\n",
      "6\n"
     ]
    }
   ],
   "source": [
    "for num in nums:\n",
    "    print(num)"
   ]
  },
  {
   "cell_type": "code",
   "execution_count": 49,
   "id": "aba452d4",
   "metadata": {},
   "outputs": [
    {
     "name": "stdout",
     "output_type": "stream",
     "text": [
      "1\n",
      "2\n",
      "Congratulations\n"
     ]
    }
   ],
   "source": [
    "#Using break in loop\n",
    "\n",
    "rolls = [1,2,3,4,5,6,7,9]\n",
    "for roll in rolls:\n",
    "    if roll ==3:\n",
    "        print('Congratulations')\n",
    "        break\n",
    "    print(roll)"
   ]
  },
  {
   "cell_type": "code",
   "execution_count": 54,
   "id": "3de65984",
   "metadata": {},
   "outputs": [
    {
     "name": "stdout",
     "output_type": "stream",
     "text": [
      "1\n",
      "2\n",
      "Congratulations\n",
      "4\n",
      "5\n",
      "6\n",
      "7\n",
      "9\n"
     ]
    }
   ],
   "source": [
    "# Using continue in loop\n",
    "rolls = [1,2,3,4,5,6,7,9]\n",
    "for roll in rolls:\n",
    "    if roll ==3:\n",
    "        print('Congratulations')\n",
    "        continue\n",
    "    print(roll)"
   ]
  },
  {
   "cell_type": "code",
   "execution_count": 56,
   "id": "4bee4ef2",
   "metadata": {},
   "outputs": [
    {
     "name": "stdout",
     "output_type": "stream",
     "text": [
      "1 a\n",
      "1 b\n",
      "1 c\n",
      "1 d\n",
      "2 a\n",
      "2 b\n",
      "2 c\n",
      "2 d\n",
      "3 a\n",
      "3 b\n",
      "3 c\n",
      "3 d\n",
      "4 a\n",
      "4 b\n",
      "4 c\n",
      "4 d\n",
      "5 a\n",
      "5 b\n",
      "5 c\n",
      "5 d\n",
      "6 a\n",
      "6 b\n",
      "6 c\n",
      "6 d\n",
      "7 a\n",
      "7 b\n",
      "7 c\n",
      "7 d\n",
      "9 a\n",
      "9 b\n",
      "9 c\n",
      "9 d\n"
     ]
    }
   ],
   "source": [
    " for roll in rolls:\n",
    "        for letters in ('abcd'):\n",
    "            print(roll, letters)"
   ]
  },
  {
   "cell_type": "markdown",
   "id": "bd232480",
   "metadata": {},
   "source": [
    "## While loop"
   ]
  },
  {
   "cell_type": "code",
   "execution_count": 72,
   "id": "82984baa",
   "metadata": {},
   "outputs": [
    {
     "name": "stdout",
     "output_type": "stream",
     "text": [
      " Happy birth day to you\n",
      " Happy birth day to you\n",
      " Happy birth day to you\n",
      " Happy birth day to you\n",
      " Happy birth day to you\n",
      " Happy birth day to you\n",
      " Happy birth day to you\n",
      " Happy birth day to you\n",
      " Happy birth day to you\n",
      " Happy birth day to you\n"
     ]
    }
   ],
   "source": [
    "x = 0\n",
    "while x<10:\n",
    "    print(\" Happy birth day to you\")\n",
    "    x = x+1"
   ]
  },
  {
   "cell_type": "code",
   "execution_count": 71,
   "id": "aebea92f",
   "metadata": {},
   "outputs": [
    {
     "name": "stdout",
     "output_type": "stream",
     "text": [
      "Old is gold \n",
      "Old is gold \n",
      "Old is gold \n",
      "Old is gold \n"
     ]
    }
   ],
   "source": [
    "x = 0\n",
    "while x <4 :\n",
    "    print('Old is gold ')\n",
    "    x = x+1"
   ]
  },
  {
   "cell_type": "code",
   "execution_count": 82,
   "id": "2b23be6b",
   "metadata": {},
   "outputs": [
    {
     "name": "stdout",
     "output_type": "stream",
     "text": [
      "0\n",
      "1\n",
      "2\n",
      "3\n",
      "4\n"
     ]
    }
   ],
   "source": [
    "#Infinite\n",
    "y=0\n",
    "while y<10:\n",
    "    if y ==5:\n",
    "        break\n",
    "    print(y)\n",
    "    y = y+1"
   ]
  },
  {
   "cell_type": "markdown",
   "id": "63bba414",
   "metadata": {},
   "source": [
    "## If Elif Else Statements"
   ]
  },
  {
   "cell_type": "code",
   "execution_count": 1,
   "id": "abd6d213",
   "metadata": {},
   "outputs": [],
   "source": [
    "# Build a Temperature Converter which will-\n",
    "# 1) ask for temperature in Celsius Scale from user.\n",
    "#2) convert the temperature in Farenheit scale. 9*c /5 + 32 1.8*c\n",
    "#Test your code using 25.8 as input\n",
    "#If your output is 78.44 then submit your code"
   ]
  },
  {
   "cell_type": "code",
   "execution_count": null,
   "id": "171d1f8a",
   "metadata": {},
   "outputs": [],
   "source": []
  }
 ],
 "metadata": {
  "kernelspec": {
   "display_name": "Python 3 (ipykernel)",
   "language": "python",
   "name": "python3"
  },
  "language_info": {
   "codemirror_mode": {
    "name": "ipython",
    "version": 3
   },
   "file_extension": ".py",
   "mimetype": "text/x-python",
   "name": "python",
   "nbconvert_exporter": "python",
   "pygments_lexer": "ipython3",
   "version": "3.9.12"
  }
 },
 "nbformat": 4,
 "nbformat_minor": 5
}
